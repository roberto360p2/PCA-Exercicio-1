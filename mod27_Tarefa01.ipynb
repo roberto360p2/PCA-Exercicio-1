{
 "cells": [
  {
   "cell_type": "markdown",
   "metadata": {},
   "source": [
    "![Cabec%CC%A7alho_notebook.png](cabecalho_notebook.png)"
   ]
  },
  {
   "cell_type": "markdown",
   "metadata": {},
   "source": [
    "# PCA - Tarefa 01: *HAR* com PCA\n",
    "\n",
    "Vamos trabalhar com a base da demonstração feita em aula, mas vamos explorar um pouco melhor como é o desempenho da árvore variando o número de componentes principais."
   ]
  },
  {
   "cell_type": "markdown",
   "metadata": {},
   "source": [
    "### <font color = \"0D5D2E\">  __Importando os pacotes__"
   ]
  },
  {
   "cell_type": "code",
   "execution_count": 1,
   "metadata": {},
   "outputs": [],
   "source": [
    "import pandas as pd\n",
    "import numpy as np\n",
    "import matplotlib.pyplot as plt\n",
    "import seaborn as sns\n",
    "import plotly.graph_objects as go\n",
    "import plotly.express as px\n",
    "\n",
    "from sklearn.decomposition import PCA\n",
    "from sklearn.tree import DecisionTreeClassifier\n",
    "from sklearn.model_selection import train_test_split\n",
    "from sklearn import metrics\n",
    "from sklearn.model_selection import cross_val_score\n",
    "from sklearn.model_selection import GridSearchCV"
   ]
  },
  {
   "cell_type": "markdown",
   "metadata": {},
   "source": [
    "### <font color = \"0D5D2E\">  __Importando a base__"
   ]
  },
  {
   "cell_type": "code",
   "execution_count": 2,
   "metadata": {},
   "outputs": [
    {
     "name": "stderr",
     "output_type": "stream",
     "text": [
      "C:\\Users\\Positivo\\AppData\\Local\\Temp\\ipykernel_7540\\233342148.py:12: FutureWarning: The squeeze argument has been deprecated and will be removed in a future version. Append .squeeze(\"columns\") to the call to squeeze.\n",
      "\n",
      "\n",
      "  features = pd.read_csv(filename_features, header=None, names=['nome_var'], squeeze=True, sep=\"#\")\n",
      "C:\\Users\\Positivo\\AppData\\Local\\Temp\\ipykernel_7540\\233342148.py:15: FutureWarning: The squeeze argument has been deprecated and will be removed in a future version. Append .squeeze(\"columns\") to the call to squeeze.\n",
      "\n",
      "\n",
      "  subject_train = pd.read_csv(filename_subtrain, header=None, names=['subject_id'], squeeze=True)\n",
      "C:\\Users\\Positivo\\AppData\\Local\\Temp\\ipykernel_7540\\233342148.py:19: FutureWarning: The squeeze argument has been deprecated and will be removed in a future version. Append .squeeze(\"columns\") to the call to squeeze.\n",
      "\n",
      "\n",
      "  subject_test = pd.read_csv(filename_subtest, header=None, names=['subject_id'], squeeze=True)\n"
     ]
    }
   ],
   "source": [
    "filename_features = r\"C:\\Users\\Positivo\\Desktop\\Cursos\\Curso Ciencias de dados Ebac\\Ciencias de dados\\Módulo17-ÁrvoresII(ParteIIárvoredeclassificação)\\UCI HAR Dataset\\features.txt\"\n",
    "filename_labels = r\"C:\\Users\\Positivo\\Desktop\\Cursos\\Curso Ciencias de dados Ebac\\Ciencias de dados\\Módulo17-ÁrvoresII(ParteIIárvoredeclassificação)\\UCI HAR Dataset\\activity_labels.txt\"\n",
    "\n",
    "filename_subtrain = r\"C:\\Users\\Positivo\\Desktop\\Cursos\\Curso Ciencias de dados Ebac\\Ciencias de dados\\Módulo17-ÁrvoresII(ParteIIárvoredeclassificação)\\UCI HAR Dataset\\train\\subject_train.txt\"\n",
    "filename_xtrain = r\"C:\\Users\\Positivo\\Desktop\\Cursos\\Curso Ciencias de dados Ebac\\Ciencias de dados\\Módulo17-ÁrvoresII(ParteIIárvoredeclassificação)\\UCI HAR Dataset\\train\\X_train.txt\"\n",
    "filename_ytrain = r\"C:\\Users\\Positivo\\Desktop\\Cursos\\Curso Ciencias de dados Ebac\\Ciencias de dados\\Módulo17-ÁrvoresII(ParteIIárvoredeclassificação)\\UCI HAR Dataset\\train\\y_train.txt\"\n",
    "\n",
    "filename_subtest = r\"C:\\Users\\Positivo\\Desktop\\Cursos\\Curso Ciencias de dados Ebac\\Ciencias de dados\\Módulo17-ÁrvoresII(ParteIIárvoredeclassificação)\\UCI HAR Dataset\\test\\subject_test.txt\"\n",
    "ffilename_xtest = r\"C:\\Users\\Positivo\\Desktop\\Cursos\\Curso Ciencias de dados Ebac\\Ciencias de dados\\Módulo17-ÁrvoresII(ParteIIárvoredeclassificação)\\UCI HAR Dataset\\test\\X_test.txt\"\n",
    "filename_ytest = r\"C:\\Users\\Positivo\\Desktop\\Cursos\\Curso Ciencias de dados Ebac\\Ciencias de dados\\Módulo17-ÁrvoresII(ParteIIárvoredeclassificação)\\UCI HAR Dataset\\test\\y_test.txt\"\n",
    "\n",
    "features = pd.read_csv(filename_features, header=None, names=['nome_var'], squeeze=True, sep=\"#\")\n",
    "labels = pd.read_csv(filename_labels, delim_whitespace=True, header=None, names=['cod_label', 'label'])\n",
    "\n",
    "subject_train = pd.read_csv(filename_subtrain, header=None, names=['subject_id'], squeeze=True)\n",
    "X_train = pd.read_csv(filename_xtrain, delim_whitespace=True, header=None, names=features.tolist())\n",
    "y_train = pd.read_csv(filename_ytrain, header=None, names=['cod_label'])\n",
    "\n",
    "subject_test = pd.read_csv(filename_subtest, header=None, names=['subject_id'], squeeze=True)\n",
    "X_test = pd.read_csv(ffilename_xtest, delim_whitespace=True, header=None, names=features.tolist())\n",
    "y_test = pd.read_csv(filename_ytest, header=None, names=['cod_label'])"
   ]
  },
  {
   "cell_type": "markdown",
   "metadata": {},
   "source": [
    "## Árvore de decisão\n",
    "\n",
    "Rode uma árvore de decisão com todas as variáveis, utilizando o ```ccp_alpha=0.001```. Avalie a acurácia nas bases de treinamento e teste. Avalie o tempo de processamento."
   ]
  },
  {
   "cell_type": "markdown",
   "metadata": {},
   "source": [
    "### <font color = \"0D5D2E\">  __Dividindo abase em treino, teste e validacao__"
   ]
  },
  {
   "cell_type": "code",
   "execution_count": 3,
   "metadata": {},
   "outputs": [
    {
     "name": "stdout",
     "output_type": "stream",
     "text": [
      "(5881, 561)\n",
      "(1471, 561)\n"
     ]
    }
   ],
   "source": [
    "X_train , X_val , y_train , y_val = train_test_split(X_train, y_train , test_size=0.2)\n",
    "\n",
    "print(X_train.shape)\n",
    "print(X_val.shape)"
   ]
  },
  {
   "cell_type": "markdown",
   "metadata": {},
   "source": [
    "### <font color = \"0D5D2E\">  __Treinando a arvore__"
   ]
  },
  {
   "cell_type": "code",
   "execution_count": 11,
   "metadata": {},
   "outputs": [
    {
     "name": "stdout",
     "output_type": "stream",
     "text": [
      "CPU times: total: 2min 31s\n",
      "Wall time: 2min 35s\n"
     ]
    }
   ],
   "source": [
    "%%time\n",
    "\n",
    "clf = DecisionTreeClassifier(random_state=1234).fit(X_train, y_train)\n",
    "caminho = DecisionTreeClassifier(random_state=2360873 , min_samples_leaf=20).cost_complexity_pruning_path(X_train, y_train)\n",
    "ccp_alphas , impurities = caminho.ccp_alphas , caminho.impurities\n",
    "\n",
    "ccp_alphas = np.unique(ccp_alphas[ccp_alphas>=0.001])\n",
    "\n",
    "clfs = []\n",
    "\n",
    "for ccp_alpha in ccp_alphas:\n",
    "    clf = DecisionTreeClassifier(random_state=2360873 , ccp_alpha=0.001).fit(X_train, y_train)\n",
    "    clfs.append(clf)"
   ]
  },
  {
   "cell_type": "code",
   "execution_count": 12,
   "metadata": {},
   "outputs": [
    {
     "data": {
      "image/png": "[encoded data removed]",
      "text/plain": [
       "<Figure size 1080x720 with 2 Axes>"
      ]
     },
     "metadata": {
      "needs_background": "light"
     },
     "output_type": "display_data"
    }
   ],
   "source": [
    "treino_scores = [clf.score(X_train, y_train) for clf in clfs ]\n",
    "valid_scores = [clf.score(X_val, y_val) for clf in clfs ]\n",
    "\n",
    "\n",
    "plt.subplots(figsize=(15,10))\n",
    "plt.subplot(2,2,1)\n",
    "plt.plot(ccp_alphas ,treino_scores , marker=\"o\", label=\"Treino\")\n",
    "plt.plot(ccp_alphas , valid_scores , marker=\"o\", label=\"Validacao\")\n",
    "plt.legend()\n",
    "plt.subplot(2,2,2)\n",
    "plt.plot(ccp_alphas ,treino_scores , marker=\"o\", label=\"Treino\",drawstyle=\"steps-post\")\n",
    "plt.plot(ccp_alphas , valid_scores , marker=\"o\", label=\"Validacao\", drawstyle=\"steps-post\")\n",
    "plt.legend()\n",
    "plt.show()"
   ]
  },
  {
   "cell_type": "code",
   "execution_count": 13,
   "metadata": {},
   "outputs": [
    {
     "name": "stdout",
     "output_type": "stream",
     "text": [
      "Acurácia da melhor árvore na base de treino:    97.4\n",
      "Acurácia da melhor árvore na base de validação: 86.5\n",
      "Acurácia da melhor árvore na base de teste:     86.5\n"
     ]
    }
   ],
   "source": [
    "ind_melhor_arvore = len(valid_scores) - valid_scores[::-1].index(max(valid_scores)) - 1\n",
    "melhor_arvore = clfs[ind_melhor_arvore]\n",
    "\n",
    "acc_train = treino_scores[ind_melhor_arvore]\n",
    "acc_valid = valid_scores[ind_melhor_arvore]\n",
    "acc_teste = melhor_arvore.score(X_test, y_test)\n",
    "\n",
    "print(f'Acurácia da melhor árvore na base de treino:    {acc_train*100:.1f}')\n",
    "print(f'Acurácia da melhor árvore na base de validação: {acc_teste*100:.1f}')\n",
    "print(f'Acurácia da melhor árvore na base de teste:     {acc_teste*100:.1f}')"
   ]
  },
  {
   "cell_type": "markdown",
   "metadata": {},
   "source": [
    "## Árvore com PCA\n",
    "\n",
    "Faça uma análise de componemtes principais das variáveis originais. Utilize apenas uma componente. Faça uma árvore de decisão com esta componente como variável explicativa.\n",
    "\n",
    "- Avalie a acurácia nas bases de treinamento e teste\n",
    "- Avalie o tempo de processamento"
   ]
  },
  {
   "cell_type": "code",
   "execution_count": 21,
   "metadata": {},
   "outputs": [
    {
     "name": "stdout",
     "output_type": "stream",
     "text": [
      "CPU times: total: 625 ms\n",
      "Wall time: 480 ms\n"
     ]
    },
    {
     "data": {
      "text/plain": [
       "(5881, 1)"
      ]
     },
     "execution_count": 21,
     "metadata": {},
     "output_type": "execute_result"
    }
   ],
   "source": [
    "%%time\n",
    "# O PCA ordena as colunas por ordem de relevancia no modelo\n",
    "\n",
    "# Constroindo o PCA\n",
    "prcomp = PCA(n_components=1).fit(X_train)\n",
    "\n",
    "pc_treino = prcomp.transform(X_train)\n",
    "pc_teste = prcomp.transform(X_test)\n",
    "pc_valid = prcomp.transform(X_val)\n",
    "\n",
    "pc_treino.shape"
   ]
  },
  {
   "cell_type": "markdown",
   "metadata": {},
   "source": [
    "### <font color = \"0D5D2E\">  __Com apenas 1 componente e 5 colunas__"
   ]
  },
  {
   "cell_type": "code",
   "execution_count": 23,
   "metadata": {},
   "outputs": [
    {
     "data": {
      "text/plain": [
       "(5881, 1)"
      ]
     },
     "execution_count": 23,
     "metadata": {},
     "output_type": "execute_result"
    }
   ],
   "source": [
    "n=1\n",
    "colunas = [\"cp\"+str(x+1) for x in list(range(n))]\n",
    "\n",
    "\n",
    "pc_teste_coluna = pd.DataFrame(pc_teste[:,:n] , columns=colunas)\n",
    "pc_treino_coluna = pd.DataFrame(pc_treino[:,:n] , columns=colunas)\n",
    "pc_valid_coluna = pd.DataFrame(pc_valid[:,:n] , columns=colunas)\n",
    "\n",
    "pc_treino_coluna.shape"
   ]
  },
  {
   "cell_type": "code",
   "execution_count": 24,
   "metadata": {},
   "outputs": [
    {
     "name": "stdout",
     "output_type": "stream",
     "text": [
      "CPU times: total: 5.17 s\n",
      "Wall time: 5.51 s\n"
     ]
    }
   ],
   "source": [
    "%%time\n",
    "\n",
    "clf = DecisionTreeClassifier(random_state=1234).fit(pc_treino_coluna, y_train)\n",
    "caminho = DecisionTreeClassifier(random_state=2360873 , min_samples_leaf=20).cost_complexity_pruning_path(pc_treino_coluna, y_train)\n",
    "ccp_alphas , impurities = caminho.ccp_alphas , caminho.impurities\n",
    "\n",
    "ccp_alphas = np.unique(ccp_alphas[ccp_alphas>=0])\n",
    "\n",
    "clfs = []\n",
    "\n",
    "for ccp_alpha in ccp_alphas:\n",
    "    clf = DecisionTreeClassifier(random_state=2360873 , ccp_alpha=ccp_alpha).fit(pc_treino_coluna, y_train)\n",
    "    clfs.append(clf)"
   ]
  },
  {
   "cell_type": "code",
   "execution_count": 25,
   "metadata": {},
   "outputs": [
    {
     "data": {
      "image/png": "[encoded data removed]",
      "text/plain": [
       "<Figure size 1440x720 with 2 Axes>"
      ]
     },
     "metadata": {
      "needs_background": "light"
     },
     "output_type": "display_data"
    }
   ],
   "source": [
    "treino_scores_colunas = [clf.score(pc_treino_coluna, y_train) for clf in clfs ]\n",
    "valid_scores_colunas = [clf.score(pc_valid_coluna, y_val) for clf in clfs ]\n",
    "\n",
    "plt.subplots(figsize=(20,10))\n",
    "plt.subplot(2,2,1)\n",
    "plt.plot(ccp_alphas ,treino_scores_colunas , marker=\"o\", label=\"Treino\")\n",
    "plt.plot(ccp_alphas , valid_scores_colunas , marker=\"o\", label=\"Validacao\")\n",
    "plt.xlabel(\"ccp_alpha\")\n",
    "plt.ylabel(\"Acuracia\")\n",
    "plt.legend()\n",
    "plt.subplot(2,2,2)\n",
    "plt.plot(ccp_alphas ,treino_scores_colunas , marker=\"o\", label=\"Treino\",drawstyle=\"steps-post\")\n",
    "plt.plot(ccp_alphas , valid_scores_colunas , marker=\"o\", label=\"Validacao\", drawstyle=\"steps-post\")\n",
    "plt.xlabel(\"ccp_alpha\")\n",
    "plt.ylabel(\"Acuracia\")\n",
    "plt.legend()\n",
    "plt.show()"
   ]
  },
  {
   "cell_type": "code",
   "execution_count": 26,
   "metadata": {},
   "outputs": [
    {
     "name": "stdout",
     "output_type": "stream",
     "text": [
      "Acurácia da melhor árvore na base de treino:    49.9\n",
      "Acurácia da melhor árvore na base de validação: 50.3\n",
      "Acurácia da melhor árvore na base de teste:     44.8\n"
     ]
    }
   ],
   "source": [
    "ind_melhor_arvore = len(valid_scores_colunas) - valid_scores_colunas[::-1].index(max(valid_scores_colunas)) - 1\n",
    "melhor_arvore = clfs[ind_melhor_arvore]\n",
    "\n",
    "\n",
    "print(f'Acurácia da melhor árvore na base de treino:    {treino_scores_colunas[ind_melhor_arvore]*100:.1f}')\n",
    "print(f'Acurácia da melhor árvore na base de validação: {valid_scores_colunas[ind_melhor_arvore]*100:.1f}')\n",
    "print(f'Acurácia da melhor árvore na base de teste:     {melhor_arvore.score(pc_teste_coluna, y_test)*100:.1f}')"
   ]
  },
  {
   "cell_type": "markdown",
   "metadata": {},
   "source": [
    "## Testando o número de componentes\n",
    "\n",
    "Com base no código acima, teste a árvore de classificação com pelo menos as seguintes possibilidades de quantidades de componentes: ```[1, 2, 5, 10, 50]```. Avalie para cada uma delas:\n",
    "\n",
    "- Acurácia nas bases de treino e teste\n",
    "- Tempo de processamento\n"
   ]
  },
  {
   "cell_type": "markdown",
   "metadata": {},
   "source": [
    "### <font color = \"0D5D2E\">  __com 2 componentes__"
   ]
  },
  {
   "cell_type": "code",
   "execution_count": 27,
   "metadata": {},
   "outputs": [
    {
     "data": {
      "image/png": "[encoded data removed]",
      "text/plain": [
       "<Figure size 1440x720 with 2 Axes>"
      ]
     },
     "metadata": {
      "needs_background": "light"
     },
     "output_type": "display_data"
    },
    {
     "name": "stdout",
     "output_type": "stream",
     "text": [
      "CPU times: total: 8.69 s\n",
      "Wall time: 9.24 s\n"
     ]
    }
   ],
   "source": [
    "%%time\n",
    "# O PCA ordena as colunas por ordem de relevancia no modelo\n",
    "\n",
    "# Constroindo o PCA\n",
    "prcomp = PCA(n_components=2).fit(X_train)\n",
    "\n",
    "pc_treino = prcomp.transform(X_train)\n",
    "pc_teste = prcomp.transform(X_test)\n",
    "pc_valid = prcomp.transform(X_val)\n",
    "\n",
    "n=2\n",
    "colunas = [\"cp\"+str(x+1) for x in list(range(n))]\n",
    "\n",
    "\n",
    "pc_teste_coluna = pd.DataFrame(pc_teste[:,:n] , columns=colunas)\n",
    "pc_treino_coluna = pd.DataFrame(pc_treino[:,:n] , columns=colunas)\n",
    "pc_valid_coluna = pd.DataFrame(pc_valid[:,:n] , columns=colunas)\n",
    "\n",
    "\n",
    "\n",
    "\n",
    "clf = DecisionTreeClassifier(random_state=1234).fit(pc_treino_coluna, y_train)\n",
    "caminho = DecisionTreeClassifier(random_state=2360873 , min_samples_leaf=20).cost_complexity_pruning_path(pc_treino_coluna, y_train)\n",
    "ccp_alphas , impurities = caminho.ccp_alphas , caminho.impurities\n",
    "\n",
    "ccp_alphas = np.unique(ccp_alphas[ccp_alphas>=0])\n",
    "\n",
    "clfs = []\n",
    "\n",
    "for ccp_alpha in ccp_alphas:\n",
    "    clf = DecisionTreeClassifier(random_state=2360873 , ccp_alpha=ccp_alpha).fit(pc_treino_coluna, y_train)\n",
    "    clfs.append(clf)\n",
    "    \n",
    "    \n",
    " \n",
    "####\n",
    "\n",
    "treino_scores_colunas = [clf.score(pc_treino_coluna, y_train) for clf in clfs ]\n",
    "valid_scores_colunas = [clf.score(pc_valid_coluna, y_val) for clf in clfs ]\n",
    "\n",
    "plt.subplots(figsize=(20,10))\n",
    "plt.subplot(2,2,1)\n",
    "plt.plot(ccp_alphas ,treino_scores_colunas , marker=\"o\", label=\"Treino\")\n",
    "plt.plot(ccp_alphas , valid_scores_colunas , marker=\"o\", label=\"Validacao\")\n",
    "plt.xlabel(\"ccp_alpha\")\n",
    "plt.ylabel(\"Acuracia\")\n",
    "plt.legend()\n",
    "plt.subplot(2,2,2)\n",
    "plt.plot(ccp_alphas ,treino_scores_colunas , marker=\"o\", label=\"Treino\",drawstyle=\"steps-post\")\n",
    "plt.plot(ccp_alphas , valid_scores_colunas , marker=\"o\", label=\"Validacao\", drawstyle=\"steps-post\")\n",
    "plt.xlabel(\"ccp_alpha\")\n",
    "plt.ylabel(\"Acuracia\")\n",
    "plt.legend()\n",
    "plt.show()"
   ]
  },
  {
   "cell_type": "code",
   "execution_count": 28,
   "metadata": {},
   "outputs": [
    {
     "name": "stdout",
     "output_type": "stream",
     "text": [
      "Acurácia da melhor árvore na base de treino:    65.7\n",
      "Acurácia da melhor árvore na base de validação: 60.7\n",
      "Acurácia da melhor árvore na base de teste:     58.2\n"
     ]
    }
   ],
   "source": [
    "ind_melhor_arvore = len(valid_scores_colunas) - valid_scores_colunas[::-1].index(max(valid_scores_colunas)) - 1\n",
    "melhor_arvore = clfs[ind_melhor_arvore]\n",
    "\n",
    "\n",
    "print(f'Acurácia da melhor árvore na base de treino:    {treino_scores_colunas[ind_melhor_arvore]*100:.1f}')\n",
    "print(f'Acurácia da melhor árvore na base de validação: {valid_scores_colunas[ind_melhor_arvore]*100:.1f}')\n",
    "print(f'Acurácia da melhor árvore na base de teste:     {melhor_arvore.score(pc_teste_coluna, y_test)*100:.1f}')"
   ]
  },
  {
   "cell_type": "markdown",
   "metadata": {},
   "source": [
    "### <font color = \"0D5D2E\">  __com 5 componentes__"
   ]
  },
  {
   "cell_type": "code",
   "execution_count": 29,
   "metadata": {},
   "outputs": [
    {
     "data": {
      "image/png": "[encoded data removed]",
      "text/plain": [
       "<Figure size 1440x720 with 2 Axes>"
      ]
     },
     "metadata": {
      "needs_background": "light"
     },
     "output_type": "display_data"
    },
    {
     "name": "stdout",
     "output_type": "stream",
     "text": [
      "CPU times: total: 7.61 s\n",
      "Wall time: 7.68 s\n"
     ]
    }
   ],
   "source": [
    "%%time\n",
    "# O PCA ordena as colunas por ordem de relevancia no modelo\n",
    "\n",
    "# Constroindo o PCA\n",
    "prcomp = PCA(n_components=5).fit(X_train)\n",
    "\n",
    "pc_treino = prcomp.transform(X_train)\n",
    "pc_teste = prcomp.transform(X_test)\n",
    "pc_valid = prcomp.transform(X_val)\n",
    "\n",
    "n=5\n",
    "colunas = [\"cp\"+str(x+1) for x in list(range(n))]\n",
    "\n",
    "\n",
    "pc_teste_coluna = pd.DataFrame(pc_teste[:,:n] , columns=colunas)\n",
    "pc_treino_coluna = pd.DataFrame(pc_treino[:,:n] , columns=colunas)\n",
    "pc_valid_coluna = pd.DataFrame(pc_valid[:,:n] , columns=colunas)\n",
    "\n",
    "\n",
    "\n",
    "\n",
    "clf = DecisionTreeClassifier(random_state=1234).fit(pc_treino_coluna, y_train)\n",
    "caminho = DecisionTreeClassifier(random_state=2360873 , min_samples_leaf=20).cost_complexity_pruning_path(pc_treino_coluna, y_train)\n",
    "ccp_alphas , impurities = caminho.ccp_alphas , caminho.impurities\n",
    "\n",
    "ccp_alphas = np.unique(ccp_alphas[ccp_alphas>=0])\n",
    "\n",
    "clfs = []\n",
    "\n",
    "for ccp_alpha in ccp_alphas:\n",
    "    clf = DecisionTreeClassifier(random_state=2360873 , ccp_alpha=ccp_alpha).fit(pc_treino_coluna, y_train)\n",
    "    clfs.append(clf)\n",
    "    \n",
    "    \n",
    " \n",
    "####\n",
    "\n",
    "treino_scores_colunas = [clf.score(pc_treino_coluna, y_train) for clf in clfs ]\n",
    "valid_scores_colunas = [clf.score(pc_valid_coluna, y_val) for clf in clfs ]\n",
    "\n",
    "plt.subplots(figsize=(20,10))\n",
    "plt.subplot(2,2,1)\n",
    "plt.plot(ccp_alphas ,treino_scores_colunas , marker=\"o\", label=\"Treino\")\n",
    "plt.plot(ccp_alphas , valid_scores_colunas , marker=\"o\", label=\"Validacao\")\n",
    "plt.xlabel(\"ccp_alpha\")\n",
    "plt.ylabel(\"Acuracia\")\n",
    "plt.legend()\n",
    "plt.subplot(2,2,2)\n",
    "plt.plot(ccp_alphas ,treino_scores_colunas , marker=\"o\", label=\"Treino\",drawstyle=\"steps-post\")\n",
    "plt.plot(ccp_alphas , valid_scores_colunas , marker=\"o\", label=\"Validacao\", drawstyle=\"steps-post\")\n",
    "plt.xlabel(\"ccp_alpha\")\n",
    "plt.ylabel(\"Acuracia\")\n",
    "plt.legend()\n",
    "plt.show()"
   ]
  },
  {
   "cell_type": "code",
   "execution_count": 30,
   "metadata": {},
   "outputs": [
    {
     "name": "stdout",
     "output_type": "stream",
     "text": [
      "Acurácia da melhor árvore na base de treino:    88.4\n",
      "Acurácia da melhor árvore na base de validação: 80.8\n",
      "Acurácia da melhor árvore na base de teste:     77.4\n"
     ]
    }
   ],
   "source": [
    "ind_melhor_arvore = len(valid_scores_colunas) - valid_scores_colunas[::-1].index(max(valid_scores_colunas)) - 1\n",
    "melhor_arvore = clfs[ind_melhor_arvore]\n",
    "\n",
    "\n",
    "print(f'Acurácia da melhor árvore na base de treino:    {treino_scores_colunas[ind_melhor_arvore]*100:.1f}')\n",
    "print(f'Acurácia da melhor árvore na base de validação: {valid_scores_colunas[ind_melhor_arvore]*100:.1f}')\n",
    "print(f'Acurácia da melhor árvore na base de teste:     {melhor_arvore.score(pc_teste_coluna, y_test)*100:.1f}')"
   ]
  },
  {
   "cell_type": "markdown",
   "metadata": {},
   "source": [
    "### <font color = \"0D5D2E\">  __com 10 componentes__"
   ]
  },
  {
   "cell_type": "code",
   "execution_count": 31,
   "metadata": {},
   "outputs": [
    {
     "data": {
      "image/png": "[encoded data removed]",
      "text/plain": [
       "<Figure size 1440x720 with 2 Axes>"
      ]
     },
     "metadata": {
      "needs_background": "light"
     },
     "output_type": "display_data"
    },
    {
     "name": "stdout",
     "output_type": "stream",
     "text": [
      "CPU times: total: 13.1 s\n",
      "Wall time: 13.6 s\n"
     ]
    }
   ],
   "source": [
    "%%time\n",
    "# O PCA ordena as colunas por ordem de relevancia no modelo\n",
    "\n",
    "# Constroindo o PCA\n",
    "prcomp = PCA(n_components=10).fit(X_train)\n",
    "\n",
    "pc_treino = prcomp.transform(X_train)\n",
    "pc_teste = prcomp.transform(X_test)\n",
    "pc_valid = prcomp.transform(X_val)\n",
    "\n",
    "n=10\n",
    "colunas = [\"cp\"+str(x+1) for x in list(range(n))]\n",
    "\n",
    "\n",
    "pc_teste_coluna = pd.DataFrame(pc_teste[:,:n] , columns=colunas)\n",
    "pc_treino_coluna = pd.DataFrame(pc_treino[:,:n] , columns=colunas)\n",
    "pc_valid_coluna = pd.DataFrame(pc_valid[:,:n] , columns=colunas)\n",
    "\n",
    "\n",
    "\n",
    "\n",
    "clf = DecisionTreeClassifier(random_state=1234).fit(pc_treino_coluna, y_train)\n",
    "caminho = DecisionTreeClassifier(random_state=2360873 , min_samples_leaf=20).cost_complexity_pruning_path(pc_treino_coluna, y_train)\n",
    "ccp_alphas , impurities = caminho.ccp_alphas , caminho.impurities\n",
    "\n",
    "ccp_alphas = np.unique(ccp_alphas[ccp_alphas>=0])\n",
    "\n",
    "clfs = []\n",
    "\n",
    "for ccp_alpha in ccp_alphas:\n",
    "    clf = DecisionTreeClassifier(random_state=2360873 , ccp_alpha=ccp_alpha).fit(pc_treino_coluna, y_train)\n",
    "    clfs.append(clf)\n",
    "    \n",
    "    \n",
    " \n",
    "####\n",
    "\n",
    "treino_scores_colunas = [clf.score(pc_treino_coluna, y_train) for clf in clfs ]\n",
    "valid_scores_colunas = [clf.score(pc_valid_coluna, y_val) for clf in clfs ]\n",
    "\n",
    "plt.subplots(figsize=(20,10))\n",
    "plt.subplot(2,2,1)\n",
    "plt.plot(ccp_alphas ,treino_scores_colunas , marker=\"o\", label=\"Treino\")\n",
    "plt.plot(ccp_alphas , valid_scores_colunas , marker=\"o\", label=\"Validacao\")\n",
    "plt.xlabel(\"ccp_alpha\")\n",
    "plt.ylabel(\"Acuracia\")\n",
    "plt.legend()\n",
    "plt.subplot(2,2,2)\n",
    "plt.plot(ccp_alphas ,treino_scores_colunas , marker=\"o\", label=\"Treino\",drawstyle=\"steps-post\")\n",
    "plt.plot(ccp_alphas , valid_scores_colunas , marker=\"o\", label=\"Validacao\", drawstyle=\"steps-post\")\n",
    "plt.xlabel(\"ccp_alpha\")\n",
    "plt.ylabel(\"Acuracia\")\n",
    "plt.legend()\n",
    "plt.show()"
   ]
  },
  {
   "cell_type": "code",
   "execution_count": 32,
   "metadata": {},
   "outputs": [
    {
     "name": "stdout",
     "output_type": "stream",
     "text": [
      "Acurácia da melhor árvore na base de treino:    94.6\n",
      "Acurácia da melhor árvore na base de validação: 86.6\n",
      "Acurácia da melhor árvore na base de teste:     81.8\n"
     ]
    }
   ],
   "source": [
    "ind_melhor_arvore = len(valid_scores_colunas) - valid_scores_colunas[::-1].index(max(valid_scores_colunas)) - 1\n",
    "melhor_arvore = clfs[ind_melhor_arvore]\n",
    "\n",
    "\n",
    "print(f'Acurácia da melhor árvore na base de treino:    {treino_scores_colunas[ind_melhor_arvore]*100:.1f}')\n",
    "print(f'Acurácia da melhor árvore na base de validação: {valid_scores_colunas[ind_melhor_arvore]*100:.1f}')\n",
    "print(f'Acurácia da melhor árvore na base de teste:     {melhor_arvore.score(pc_teste_coluna, y_test)*100:.1f}')"
   ]
  },
  {
   "cell_type": "markdown",
   "metadata": {},
   "source": [
    "### <font color = \"0D5D2E\">  __com 50 componentes__"
   ]
  },
  {
   "cell_type": "code",
   "execution_count": 33,
   "metadata": {},
   "outputs": [
    {
     "data": {
      "image/png": "[encoded data removed]",
      "text/plain": [
       "<Figure size 1440x720 with 2 Axes>"
      ]
     },
     "metadata": {
      "needs_background": "light"
     },
     "output_type": "display_data"
    },
    {
     "name": "stdout",
     "output_type": "stream",
     "text": [
      "CPU times: total: 59.3 s\n",
      "Wall time: 60 s\n"
     ]
    }
   ],
   "source": [
    "%%time\n",
    "# O PCA ordena as colunas por ordem de relevancia no modelo\n",
    "\n",
    "# Constroindo o PCA\n",
    "prcomp = PCA(n_components=50).fit(X_train)\n",
    "\n",
    "pc_treino = prcomp.transform(X_train)\n",
    "pc_teste = prcomp.transform(X_test)\n",
    "pc_valid = prcomp.transform(X_val)\n",
    "\n",
    "n=50\n",
    "colunas = [\"cp\"+str(x+1) for x in list(range(n))]\n",
    "\n",
    "\n",
    "pc_teste_coluna = pd.DataFrame(pc_teste[:,:n] , columns=colunas)\n",
    "pc_treino_coluna = pd.DataFrame(pc_treino[:,:n] , columns=colunas)\n",
    "pc_valid_coluna = pd.DataFrame(pc_valid[:,:n] , columns=colunas)\n",
    "\n",
    "\n",
    "\n",
    "\n",
    "clf = DecisionTreeClassifier(random_state=1234).fit(pc_treino_coluna, y_train)\n",
    "caminho = DecisionTreeClassifier(random_state=2360873 , min_samples_leaf=20).cost_complexity_pruning_path(pc_treino_coluna, y_train)\n",
    "ccp_alphas , impurities = caminho.ccp_alphas , caminho.impurities\n",
    "\n",
    "ccp_alphas = np.unique(ccp_alphas[ccp_alphas>=0])\n",
    "\n",
    "clfs = []\n",
    "\n",
    "for ccp_alpha in ccp_alphas:\n",
    "    clf = DecisionTreeClassifier(random_state=2360873 , ccp_alpha=ccp_alpha).fit(pc_treino_coluna, y_train)\n",
    "    clfs.append(clf)\n",
    "    \n",
    "    \n",
    " \n",
    "####\n",
    "\n",
    "treino_scores_colunas = [clf.score(pc_treino_coluna, y_train) for clf in clfs ]\n",
    "valid_scores_colunas = [clf.score(pc_valid_coluna, y_val) for clf in clfs ]\n",
    "\n",
    "plt.subplots(figsize=(20,10))\n",
    "plt.subplot(2,2,1)\n",
    "plt.plot(ccp_alphas ,treino_scores_colunas , marker=\"o\", label=\"Treino\")\n",
    "plt.plot(ccp_alphas , valid_scores_colunas , marker=\"o\", label=\"Validacao\")\n",
    "plt.xlabel(\"ccp_alpha\")\n",
    "plt.ylabel(\"Acuracia\")\n",
    "plt.legend()\n",
    "plt.subplot(2,2,2)\n",
    "plt.plot(ccp_alphas ,treino_scores_colunas , marker=\"o\", label=\"Treino\",drawstyle=\"steps-post\")\n",
    "plt.plot(ccp_alphas , valid_scores_colunas , marker=\"o\", label=\"Validacao\", drawstyle=\"steps-post\")\n",
    "plt.xlabel(\"ccp_alpha\")\n",
    "plt.ylabel(\"Acuracia\")\n",
    "plt.legend()\n",
    "plt.show()"
   ]
  },
  {
   "cell_type": "code",
   "execution_count": 34,
   "metadata": {},
   "outputs": [
    {
     "name": "stdout",
     "output_type": "stream",
     "text": [
      "Acurácia da melhor árvore na base de treino:    97.3\n",
      "Acurácia da melhor árvore na base de validação: 87.2\n",
      "Acurácia da melhor árvore na base de teste:     79.7\n"
     ]
    }
   ],
   "source": [
    "ind_melhor_arvore = len(valid_scores_colunas) - valid_scores_colunas[::-1].index(max(valid_scores_colunas)) - 1\n",
    "melhor_arvore = clfs[ind_melhor_arvore]\n",
    "\n",
    "\n",
    "print(f'Acurácia da melhor árvore na base de treino:    {treino_scores_colunas[ind_melhor_arvore]*100:.1f}')\n",
    "print(f'Acurácia da melhor árvore na base de validação: {valid_scores_colunas[ind_melhor_arvore]*100:.1f}')\n",
    "print(f'Acurácia da melhor árvore na base de teste:     {melhor_arvore.score(pc_teste_coluna, y_test)*100:.1f}')"
   ]
  },
  {
   "cell_type": "markdown",
   "metadata": {},
   "source": [
    "## Conclua\n",
    "\n",
    "- O que aconteceu com a acurácia?\n",
    "- O que aconteceu com o tempo de processamento?"
   ]
  },
  {
   "cell_type": "markdown",
   "metadata": {},
   "source": [
    "### <font color = \"0D5D2E\">  __Resultado nos dados de testes__"
   ]
  },
  {
   "cell_type": "markdown",
   "metadata": {},
   "source": [
    "- Acuracia com 1   componente   e  44.8 tempo 5.51 s\n",
    "- Acuracia com 2   componente   e  58.2 tempo 9.24 s\n",
    "- Acuracia com 5   componente   e  77.4 tempo 7.68 s\n",
    "- Acuracia com 10  componente   e  81.8 tempo 13.6 s\n",
    "- Acuracia com 50  componente   e  79.7 tempo 60 s"
   ]
  },
  {
   "cell_type": "markdown",
   "metadata": {},
   "source": [
    "### <font color = \"0D5D2E\">  __Resultado nos dados de validação__"
   ]
  },
  {
   "cell_type": "markdown",
   "metadata": {},
   "source": [
    "- Acuracia com 1   componente   e  50.3 tempo 5.51 s\n",
    "- Acuracia com 2   componente   e  60.7 tempo 9.24 s\n",
    "- Acuracia com 5   componente   e  80.8 tempo 7.68 s\n",
    "- Acuracia com 10  componente   e  86.6 tempo 13.6 s\n",
    "- Acuracia com 50  componente   e  87.2 tempo 60 s"
   ]
  },
  {
   "cell_type": "markdown",
   "metadata": {},
   "source": [
    "- Respondendo as perguntas acima tanto processamento e quanto acuracia de 10 componentes se mostrou mais rapido nos dados de teste e validação do que 50 componentes."
   ]
  },
  {
   "cell_type": "markdown",
   "metadata": {},
   "source": [
    "- Observamos nos dados de valição 10 componentes X 50 uma leve acuracia um pouco melhor mais quando olhamos a perfomace de tempo é quase 5 vezes mais rapido."
   ]
  }
 ],
 "metadata": {
  "kernelspec": {
   "display_name": "Python 3 (ipykernel)",
   "language": "python",
   "name": "python3"
  },
  "language_info": {
   "codemirror_mode": {
    "name": "ipython",
    "version": 3
   },
   "file_extension": ".py",
   "mimetype": "text/x-python",
   "name": "python",
   "nbconvert_exporter": "python",
   "pygments_lexer": "ipython3",
   "version": "3.9.12"
  },
  "toc": {
   "base_numbering": 1,
   "nav_menu": {},
   "number_sections": true,
   "sideBar": true,
   "skip_h1_title": true,
   "title_cell": "Índice",
   "title_sidebar": "Conteúdo",
   "toc_cell": false,
   "toc_position": {},
   "toc_section_display": true,
   "toc_window_display": false
  },
  "varInspector": {
   "cols": {
    "lenName": 16,
    "lenType": 16,
    "lenVar": 40
   },
   "kernels_config": {
    "python": {
     "delete_cmd_postfix": "",
     "delete_cmd_prefix": "del ",
     "library": "var_list.py",
     "varRefreshCmd": "print(var_dic_list())"
    },
    "r": {
     "delete_cmd_postfix": ") ",
     "delete_cmd_prefix": "rm(",
     "library": "var_list.r",
     "varRefreshCmd": "cat(var_dic_list()) "
    }
   },
   "types_to_exclude": [
    "module",
    "function",
    "builtin_function_or_method",
    "instance",
    "_Feature"
   ],
   "window_display": false
  }
 },
 "nbformat": 4,
 "nbformat_minor": 4
}
